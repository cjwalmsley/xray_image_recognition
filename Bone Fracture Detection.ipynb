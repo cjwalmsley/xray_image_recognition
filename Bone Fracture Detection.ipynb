{
 "cells": [
  {
   "cell_type": "markdown",
   "source": [
    "https://www.kaggle.com/datasets/pkdarabi/bone-fracture-detection-computer-vision-project/data"
   ],
   "metadata": {
    "collapsed": false
   },
   "id": "6f965372f3a216a1"
  },
  {
   "cell_type": "markdown",
   "source": [
    "Data Set Information:\n",
    "Directory path to dataset: '/Users/chris/Library/CloudStorage/GoogleDrive-cjameswalmsley@gmail.com/My Drive/Shared with Julia/Education/Kent University/MSc/Modules/COMP8260_AI_Systems_Implementation/Project/dataset/archive'\n",
    "\n",
    "train/images\n",
    "train/labels\n",
    "test/images\n",
    "test/labels\n",
    "valid/images\n",
    "valid/labels\n",
    "\n",
    "['elbow positive', 'fingers positive', 'forearm fracture', 'humerus fracture', 'humerus', 'shoulder fracture', 'wrist positive']\n",
    "\n",
    "\n",
    "https://universe.roboflow.com/veda/bone-fracture-detection-daoon/dataset/4\n",
    "  \n",
    "\n",
    "https://universe.roboflow.com/veda/bone-fracture-detection-daoon\n",
    "\n",
    "Load data\n",
    "\n"
   ],
   "metadata": {
    "collapsed": false
   },
   "id": "3805c806f69df224"
  },
  {
   "cell_type": "code",
   "outputs": [],
   "source": [
    "import os\n",
    "import numpy as np\n",
    "import matplotlib.pyplot as plt\n",
    "from keras.utils import image_dataset_from_directory\n"
   ],
   "metadata": {
    "collapsed": false
   },
   "id": "f1013734a873c59a"
  },
  {
   "cell_type": "code",
   "outputs": [],
   "source": [
    "# Load data\n",
    "train_ds = tf.keras.utils.image_dataset_from_directory(\n",
    "  data_dir,\n",
    "  validation_split=0.2,\n",
    "  subset=\"training\",\n",
    "  seed=123,\n",
    "  image_size=(img_height, img_width),\n",
    "  batch_size=batch_size)"
   ],
   "metadata": {
    "collapsed": false
   },
   "id": "3ee4d74bbab4c9b2"
  }
 ],
 "metadata": {
  "kernelspec": {
   "display_name": "Python 3",
   "language": "python",
   "name": "python3"
  },
  "language_info": {
   "codemirror_mode": {
    "name": "ipython",
    "version": 2
   },
   "file_extension": ".py",
   "mimetype": "text/x-python",
   "name": "python",
   "nbconvert_exporter": "python",
   "pygments_lexer": "ipython2",
   "version": "2.7.6"
  }
 },
 "nbformat": 4,
 "nbformat_minor": 5
}
